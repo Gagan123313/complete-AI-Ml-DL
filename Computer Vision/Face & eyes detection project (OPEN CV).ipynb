{
 "cells": [
  {
   "cell_type": "code",
   "execution_count": 1,
   "id": "0b969c44-8437-4b85-aadd-42a8aa01f5f9",
   "metadata": {},
   "outputs": [],
   "source": [
    "import pandas as pd\n",
    "import numpy as np\n",
    "import cv2\n",
    "import warnings\n",
    "warnings.filterwarnings('ignore')"
   ]
  },
  {
   "cell_type": "code",
   "execution_count": 2,
   "id": "3fa0234c-2c6c-4375-92a9-9dd691588131",
   "metadata": {},
   "outputs": [],
   "source": [
    "img = cv2.imread(r\"C:\\Users\\gagan soni\\Pictures\\Screenshots\\Screenshot 2025-08-01 210912.png\",1)"
   ]
  },
  {
   "cell_type": "code",
   "execution_count": 3,
   "id": "899ed9b1-a03b-46bb-a85e-e3835c1114d0",
   "metadata": {},
   "outputs": [
    {
     "data": {
      "text/plain": [
       "(348, 404, 3)"
      ]
     },
     "execution_count": 3,
     "metadata": {},
     "output_type": "execute_result"
    }
   ],
   "source": [
    "img.shape"
   ]
  },
  {
   "cell_type": "code",
   "execution_count": 4,
   "id": "ab774828-521c-4f05-8f70-3fc9f0adf6d3",
   "metadata": {},
   "outputs": [
    {
     "data": {
      "text/plain": [
       "numpy.ndarray"
      ]
     },
     "execution_count": 4,
     "metadata": {},
     "output_type": "execute_result"
    }
   ],
   "source": [
    "type(img)"
   ]
  },
  {
   "cell_type": "code",
   "execution_count": 5,
   "id": "8b151f69-f977-46f1-b340-d5ab1a855f8a",
   "metadata": {},
   "outputs": [
    {
     "data": {
      "text/plain": [
       "3"
      ]
     },
     "execution_count": 5,
     "metadata": {},
     "output_type": "execute_result"
    }
   ],
   "source": [
    "img.ndim"
   ]
  },
  {
   "cell_type": "code",
   "execution_count": 6,
   "id": "06a40080-427c-4964-999c-321035bd5b4b",
   "metadata": {},
   "outputs": [],
   "source": [
    "cv2.imshow('modi image', img)\n",
    "cv2.waitKey(0)\n",
    "cv2.destroyAllWindows()"
   ]
  },
  {
   "cell_type": "markdown",
   "id": "6c9bc30d-60c3-4bc7-bfb0-4449e6306095",
   "metadata": {},
   "source": [
    "### Resize image "
   ]
  },
  {
   "cell_type": "code",
   "execution_count": 7,
   "id": "beb24275-81ac-447c-8e3e-f108022d0e30",
   "metadata": {},
   "outputs": [],
   "source": [
    "resize_img = img[0:377, 50:376]  \n",
    "gray = cv2.cvtColor(resize_img, cv2.COLOR_BGR2GRAY)"
   ]
  },
  {
   "cell_type": "code",
   "execution_count": 8,
   "id": "a1abd1b1-8aa6-4d33-836e-048e50937248",
   "metadata": {},
   "outputs": [
    {
     "name": "stdout",
     "output_type": "stream",
     "text": [
      "(348, 326)\n"
     ]
    }
   ],
   "source": [
    "print(gray.shape)"
   ]
  },
  {
   "cell_type": "markdown",
   "id": "babce417-7770-4e02-a4f1-d97a13db1a73",
   "metadata": {},
   "source": [
    "### computer vesion\n",
    "* object detection as per your requiremnt "
   ]
  },
  {
   "cell_type": "markdown",
   "id": "c8927ca4-df64-4b36-be43-5547201795df",
   "metadata": {},
   "source": [
    "## Face detection with haar cascade classifier "
   ]
  },
  {
   "cell_type": "code",
   "execution_count": 9,
   "id": "f931b52d-e4ca-4729-ae2d-f5ce619860b9",
   "metadata": {},
   "outputs": [],
   "source": [
    "# load the features\n",
    "face_cascade = cv2.CascadeClassifier('haarcascade_frontalface_default.xml')\n",
    "\n",
    "\n",
    "# matching features on given image \n",
    "faces = face_cascade.detectMultiScale(resize_img, 1.01,5)\n",
    "\n",
    "if faces is ():      # say face not found\n",
    "    print('no faces found')\n",
    "else:               # draw the rectangle box\n",
    "    for(x,y,h,l) in faces:\n",
    "        cv2.rectangle(resize_img,(x,y),(x+l,y+h),(0,0,255),1)\n",
    "        \n",
    "cv2.imshow('modi image', resize_img)\n",
    "cv2.waitKey(0)\n",
    "cv2.destroyAllWindows()"
   ]
  },
  {
   "cell_type": "code",
   "execution_count": 10,
   "id": "158847db-d864-4c13-a217-28b1c721c883",
   "metadata": {},
   "outputs": [
    {
     "data": {
      "text/plain": [
       "array([[ 71,  62, 166, 166]])"
      ]
     },
     "execution_count": 10,
     "metadata": {},
     "output_type": "execute_result"
    }
   ],
   "source": [
    "faces"
   ]
  },
  {
   "cell_type": "markdown",
   "id": "5926111d-b899-45cb-ae5b-22552e39d7f1",
   "metadata": {},
   "source": [
    "### Face and eye detection using haar cascade classifier"
   ]
  },
  {
   "cell_type": "code",
   "execution_count": 11,
   "id": "86af3462-034d-439e-aa74-eca7295556a5",
   "metadata": {},
   "outputs": [],
   "source": [
    "# load the features\n",
    "face_cascade = cv2.CascadeClassifier('haarcascade_frontalface_default.xml')\n",
    "eye_cascade = cv2.CascadeClassifier('haarcascade_eye.xml')\n",
    "\n",
    "# matching features on given image \n",
    "faces = face_cascade.detectMultiScale(resize_img, 1.03,5)\n",
    "\n",
    "if faces is ():      # say face not found\n",
    "    print('no faces found')\n",
    "    \n",
    "for(x,y,w,h) in faces:\n",
    "    cv2.rectangle(resize_img,(x,y),(x+l,y+h),(0,0,255),1)\n",
    "    roi_gray = gray[y:y+h,x:x+w]\n",
    "    roi_color = resize_img[y:y+h,x:x+w]\n",
    "\n",
    "    eyes = eye_cascade.detectMultiScale(roi_gray)\n",
    "    for (ex,ey,ew,eh) in eyes:\n",
    "        cv2.rectangle(roi_color,(ex,ey),(ex+ew,ey+eh),(0,0,255),1)\n",
    "        \n",
    "cv2.imshow('modi image', resize_img)\n",
    "cv2.waitKey(0)\n",
    "cv2.destroyAllWindows()"
   ]
  },
  {
   "cell_type": "markdown",
   "id": "d235bf0a-0c75-4ea2-a1e3-59ffba01b0df",
   "metadata": {},
   "source": [
    "### capture the video"
   ]
  },
  {
   "cell_type": "code",
   "execution_count": 12,
   "id": "64faecbd-48f3-42f7-930d-99cbee7bab01",
   "metadata": {},
   "outputs": [],
   "source": [
    "video = cv2.VideoCapture(0)  # 0 -- webcam\n",
    "while True:\n",
    "    num, frame = video.read()\n",
    "    gray = cv2.cvtColor(frame,cv2.COLOR_BGR2GRAY)\n",
    "    cv2.imshow('video',gray)\n",
    "    if cv2.waitKey(1) == ord('q'):\n",
    "        break\n",
    "\n",
    "video.release()\n",
    "cv2.destroyAllWindows()"
   ]
  },
  {
   "cell_type": "markdown",
   "id": "e3c196e6-4879-415e-a362-07fa826ace99",
   "metadata": {},
   "source": [
    "### face & eye detection using haar cascade classifier with live video"
   ]
  },
  {
   "cell_type": "code",
   "execution_count": 13,
   "id": "6864d8e5-03b5-4a7c-836b-915b75b90631",
   "metadata": {},
   "outputs": [],
   "source": [
    "face_cascade = cv2.CascadeClassifier('haarcascade_frontalface_default.xml')\n",
    "eye_cascade = cv2.CascadeClassifier('haarcascade_eye.xml')\n",
    "def detect(gray,frame):   \n",
    "    faces = face_cascade.detectMultiScale(gray, 1.03,5)\n",
    "    for(x,y,w,h) in faces:\n",
    "        cv2.rectangle(frame,(x,y),(x+l,y+h),(0,0,255),1)\n",
    "        roi_gray = gray[y:y+h,x:x+w]\n",
    "        roi_color = frame[y:y+h,x:x+w]\n",
    "        eyes = eye_cascade.detectMultiScale(roi_gray,1.04,5)\n",
    "        for (ex,ey,ew,eh) in eyes:\n",
    "            cv2.rectangle(roi_color,(ex,ey),(ex+ew,ey+eh),(0,0,255),1)\n",
    "    return frame\n",
    "\n",
    "video = cv2.VideoCapture(0)  # 0 -- webcam\n",
    "while True:\n",
    "    check, frame = video.read()\n",
    "    gray = cv2.cvtColor(frame,cv2.COLOR_BGR2GRAY)\n",
    "    canvas = detect(gray ,frame)\n",
    "    cv2.imshow('video',canvas)\n",
    "    if cv2.waitKey(1) == ord('q'):\n",
    "        break\n",
    "\n",
    "video.release()\n",
    "cv2.destroyAllWindows()"
   ]
  }
 ],
 "metadata": {
  "kernelspec": {
   "display_name": "Python 3 (ipykernel)",
   "language": "python",
   "name": "python3"
  },
  "language_info": {
   "codemirror_mode": {
    "name": "ipython",
    "version": 3
   },
   "file_extension": ".py",
   "mimetype": "text/x-python",
   "name": "python",
   "nbconvert_exporter": "python",
   "pygments_lexer": "ipython3",
   "version": "3.12.3"
  }
 },
 "nbformat": 4,
 "nbformat_minor": 5
}
