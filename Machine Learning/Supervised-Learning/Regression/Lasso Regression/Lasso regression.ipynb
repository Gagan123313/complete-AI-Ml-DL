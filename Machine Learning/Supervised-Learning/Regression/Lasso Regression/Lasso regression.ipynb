{
 "cells": [
  {
   "cell_type": "code",
   "execution_count": 8,
   "id": "985dab0a-a9c0-4b31-aa58-bca1acfb8ce2",
   "metadata": {},
   "outputs": [],
   "source": [
    "import pandas as pd\n",
    "import numpy as np\n",
    "import seaborn as sns\n",
    "import matplotlib.pyplot as plt\n",
    "from sklearn.linear_model import Lasso\n",
    "import warnings\n",
    "from sklearn.model_selection import GridSearchCV\n",
    "warnings.filterwarnings('ignore')"
   ]
  },
  {
   "cell_type": "code",
   "execution_count": 2,
   "id": "9202011d-c131-49df-ba05-fea3d9889d10",
   "metadata": {},
   "outputs": [
    {
     "data": {
      "text/html": [
       "<div>\n",
       "<style scoped>\n",
       "    .dataframe tbody tr th:only-of-type {\n",
       "        vertical-align: middle;\n",
       "    }\n",
       "\n",
       "    .dataframe tbody tr th {\n",
       "        vertical-align: top;\n",
       "    }\n",
       "\n",
       "    .dataframe thead th {\n",
       "        text-align: right;\n",
       "    }\n",
       "</style>\n",
       "<table border=\"1\" class=\"dataframe\">\n",
       "  <thead>\n",
       "    <tr style=\"text-align: right;\">\n",
       "      <th></th>\n",
       "      <th>Square Footage</th>\n",
       "      <th>Number of Occupants</th>\n",
       "      <th>Appliances Used</th>\n",
       "      <th>Average Temperature</th>\n",
       "      <th>Energy Consumption</th>\n",
       "      <th>Building Type_Industrial</th>\n",
       "      <th>Building Type_Residential</th>\n",
       "      <th>Day of Week_Weekend</th>\n",
       "      <th>Season_rainy</th>\n",
       "      <th>Season_summer</th>\n",
       "    </tr>\n",
       "  </thead>\n",
       "  <tbody>\n",
       "    <tr>\n",
       "      <th>0</th>\n",
       "      <td>24563</td>\n",
       "      <td>15</td>\n",
       "      <td>4</td>\n",
       "      <td>28</td>\n",
       "      <td>2865</td>\n",
       "      <td>0</td>\n",
       "      <td>1</td>\n",
       "      <td>0</td>\n",
       "      <td>0</td>\n",
       "      <td>1</td>\n",
       "    </tr>\n",
       "    <tr>\n",
       "      <th>1</th>\n",
       "      <td>27583</td>\n",
       "      <td>56</td>\n",
       "      <td>23</td>\n",
       "      <td>23</td>\n",
       "      <td>4283</td>\n",
       "      <td>0</td>\n",
       "      <td>0</td>\n",
       "      <td>1</td>\n",
       "      <td>1</td>\n",
       "      <td>0</td>\n",
       "    </tr>\n",
       "    <tr>\n",
       "      <th>2</th>\n",
       "      <td>45313</td>\n",
       "      <td>4</td>\n",
       "      <td>44</td>\n",
       "      <td>33</td>\n",
       "      <td>5067</td>\n",
       "      <td>0</td>\n",
       "      <td>0</td>\n",
       "      <td>0</td>\n",
       "      <td>0</td>\n",
       "      <td>1</td>\n",
       "    </tr>\n",
       "    <tr>\n",
       "      <th>3</th>\n",
       "      <td>41625</td>\n",
       "      <td>84</td>\n",
       "      <td>17</td>\n",
       "      <td>27</td>\n",
       "      <td>4624</td>\n",
       "      <td>0</td>\n",
       "      <td>1</td>\n",
       "      <td>1</td>\n",
       "      <td>1</td>\n",
       "      <td>0</td>\n",
       "    </tr>\n",
       "    <tr>\n",
       "      <th>4</th>\n",
       "      <td>36720</td>\n",
       "      <td>58</td>\n",
       "      <td>47</td>\n",
       "      <td>17</td>\n",
       "      <td>4820</td>\n",
       "      <td>0</td>\n",
       "      <td>1</td>\n",
       "      <td>0</td>\n",
       "      <td>0</td>\n",
       "      <td>0</td>\n",
       "    </tr>\n",
       "  </tbody>\n",
       "</table>\n",
       "</div>"
      ],
      "text/plain": [
       "   Square Footage  Number of Occupants  Appliances Used  Average Temperature  \\\n",
       "0           24563                   15                4                   28   \n",
       "1           27583                   56               23                   23   \n",
       "2           45313                    4               44                   33   \n",
       "3           41625                   84               17                   27   \n",
       "4           36720                   58               47                   17   \n",
       "\n",
       "   Energy Consumption  Building Type_Industrial  Building Type_Residential  \\\n",
       "0                2865                         0                          1   \n",
       "1                4283                         0                          0   \n",
       "2                5067                         0                          0   \n",
       "3                4624                         0                          1   \n",
       "4                4820                         0                          1   \n",
       "\n",
       "   Day of Week_Weekend  Season_rainy  Season_summer  \n",
       "0                    0             0              1  \n",
       "1                    1             1              0  \n",
       "2                    0             0              1  \n",
       "3                    1             1              0  \n",
       "4                    0             0              0  "
      ]
     },
     "execution_count": 2,
     "metadata": {},
     "output_type": "execute_result"
    }
   ],
   "source": [
    "df = pd.read_csv(r\"C:\\Users\\gagan soni\\Downloads\\cleaned_energy_data.xls\")\n",
    "df.head()"
   ]
  },
  {
   "cell_type": "code",
   "execution_count": 3,
   "id": "7ad93a6e-d77a-48c9-add7-6c2b9f735fcb",
   "metadata": {},
   "outputs": [],
   "source": [
    "X = df.drop(columns = ['Energy Consumption'])\n",
    "y = df['Energy Consumption']"
   ]
  },
  {
   "cell_type": "code",
   "execution_count": 4,
   "id": "406a8874-a1aa-4049-9aa6-2e31a848c0de",
   "metadata": {},
   "outputs": [],
   "source": [
    "from sklearn.model_selection import train_test_split\n",
    "X_train,X_test,y_train,y_test = train_test_split(X,y,test_size = 0.2,random_state = 42)"
   ]
  },
  {
   "cell_type": "markdown",
   "id": "b5dd0510-96eb-4b69-b5fa-7a1adf58fa4e",
   "metadata": {},
   "source": [
    "# modelling"
   ]
  },
  {
   "cell_type": "markdown",
   "id": "459d5c40-61b6-4335-8035-bb2b34951a05",
   "metadata": {},
   "source": [
    "###  hypare parameter tunning"
   ]
  },
  {
   "cell_type": "code",
   "execution_count": 9,
   "id": "873ef292-efc8-45b8-a7cf-ef7db753b182",
   "metadata": {},
   "outputs": [
    {
     "data": {
      "text/plain": [
       "{'alpha': 1}"
      ]
     },
     "execution_count": 9,
     "metadata": {},
     "output_type": "execute_result"
    }
   ],
   "source": [
    "model = Lasso()\n",
    "param_grid = {'alpha':list(range(1,10))}\n",
    "grid  = GridSearchCV(model,param_grid,cv = 5)\n",
    "grid.fit(X_train,y_train)\n",
    "grid.best_params_"
   ]
  },
  {
   "cell_type": "markdown",
   "id": "f17239df-ba12-4700-9481-ee1eed469944",
   "metadata": {},
   "source": [
    "# Evolution"
   ]
  },
  {
   "cell_type": "code",
   "execution_count": 10,
   "id": "ad87ea32-b30a-4cda-a430-0bad75c5cfc5",
   "metadata": {},
   "outputs": [
    {
     "name": "stdout",
     "output_type": "stream",
     "text": [
      "Train_r2_score 0.9999822279168176\n",
      "cross_val_score 0.9999781558657432\n",
      "test_r2_score 0.9999868386755615\n"
     ]
    }
   ],
   "source": [
    "# modelling\n",
    "from sklearn.linear_model import Lasso\n",
    "lasso_best = Lasso(alpha = 1)\n",
    "lasso_best.fit(X_train,y_train)\n",
    "\n",
    "\n",
    "# Prediction\n",
    "y_pred_train = lasso_best.predict(X_train)\n",
    "\n",
    "# train r2_score\n",
    "from sklearn.metrics import r2_score\n",
    "print('Train_r2_score',r2_score(y_train,y_pred_train))\n",
    "\n",
    "# cross validation score\n",
    "from sklearn.model_selection import cross_val_score \n",
    "print('cross_val_score',cross_val_score(lasso_best,X_train,y_train,cv = 5).mean())\n",
    "\n",
    "# prediction\n",
    "y_pred_test = lasso_best.predict(X_test)\n",
    "\n",
    "# test r2_score\n",
    "print('test_r2_score',r2_score(y_test,y_pred_test))"
   ]
  }
 ],
 "metadata": {
  "kernelspec": {
   "display_name": "Python 3 (ipykernel)",
   "language": "python",
   "name": "python3"
  },
  "language_info": {
   "codemirror_mode": {
    "name": "ipython",
    "version": 3
   },
   "file_extension": ".py",
   "mimetype": "text/x-python",
   "name": "python",
   "nbconvert_exporter": "python",
   "pygments_lexer": "ipython3",
   "version": "3.12.3"
  }
 },
 "nbformat": 4,
 "nbformat_minor": 5
}
