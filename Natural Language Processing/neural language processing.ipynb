{
 "cells": [
  {
   "cell_type": "code",
   "execution_count": 1,
   "id": "72142a24-5722-4709-bcf8-b4288cd49f6d",
   "metadata": {},
   "outputs": [],
   "source": [
    "import nltk\n",
    "import pandas as pd\n",
    "import numpy as np"
   ]
  },
  {
   "cell_type": "markdown",
   "id": "d0c572e8-380a-47e8-a456-b9ac99c0518d",
   "metadata": {},
   "source": [
    "# Text prepocessing\n",
    "### 1. Tocenization\n",
    "### 2. Text cleaning \n",
    "##### Remove penchuation\n",
    "##### remove stopwords\n",
    "##### steaming/limitization\n",
    "### 3. Text vectorizatoin\n",
    "##### bag of words\n",
    "##### tf-idf\n",
    "##### n-grams"
   ]
  },
  {
   "cell_type": "markdown",
   "id": "3be92888-ad6b-4ddc-bf97-a160e2b25bad",
   "metadata": {},
   "source": [
    "# 1. tokenization :breaking data into parts"
   ]
  },
  {
   "cell_type": "markdown",
   "id": "55dee634-dfaa-4520-bf75-5647c88786e6",
   "metadata": {},
   "source": [
    "* corpus : a single person review \n",
    "* corpara : overall review of all person"
   ]
  },
  {
   "cell_type": "code",
   "execution_count": 2,
   "id": "53652e66-dc01-4a34-ae72-85ae3d56b1b2",
   "metadata": {},
   "outputs": [
    {
     "data": {
      "text/plain": [
       "'He is a good boy. She is a good girl. boy & girl is good'"
      ]
     },
     "execution_count": 2,
     "metadata": {},
     "output_type": "execute_result"
    }
   ],
   "source": [
    "paragraph = 'He is a good boy. She is a good girl. boy & girl is good'\n",
    "paragraph"
   ]
  },
  {
   "cell_type": "markdown",
   "id": "2c5b02b6-48d1-4fd4-8147-4725a3cd5015",
   "metadata": {},
   "source": [
    "### 1. word tockenization:  breaking the data into words"
   ]
  },
  {
   "cell_type": "code",
   "execution_count": 3,
   "id": "f467d046-140f-4f04-b602-44f88a8d3c0e",
   "metadata": {},
   "outputs": [
    {
     "data": {
      "text/plain": [
       "['He',\n",
       " 'is',\n",
       " 'a',\n",
       " 'good',\n",
       " 'boy',\n",
       " '.',\n",
       " 'She',\n",
       " 'is',\n",
       " 'a',\n",
       " 'good',\n",
       " 'girl',\n",
       " '.',\n",
       " 'boy',\n",
       " '&',\n",
       " 'girl',\n",
       " 'is',\n",
       " 'good']"
      ]
     },
     "execution_count": 3,
     "metadata": {},
     "output_type": "execute_result"
    }
   ],
   "source": [
    "words = nltk.word_tokenize (paragraph)\n",
    "words"
   ]
  },
  {
   "cell_type": "markdown",
   "id": "30838e16-9638-4391-8088-0be5d6aac17d",
   "metadata": {},
   "source": [
    "### 2. sentense tokenize : breaking the data into sentenses"
   ]
  },
  {
   "cell_type": "code",
   "execution_count": 4,
   "id": "4f60bd71-528b-49f8-9127-448dd51ceea4",
   "metadata": {},
   "outputs": [
    {
     "data": {
      "text/plain": [
       "['He is a good boy.', 'She is a good girl.', 'boy & girl is good']"
      ]
     },
     "execution_count": 4,
     "metadata": {},
     "output_type": "execute_result"
    }
   ],
   "source": [
    "sentences = nltk.sent_tokenize(paragraph)\n",
    "sentences"
   ]
  },
  {
   "cell_type": "markdown",
   "id": "067c33fd-3d85-447b-8df3-1c9680982609",
   "metadata": {},
   "source": [
    "# 2. Text cleaning"
   ]
  },
  {
   "cell_type": "markdown",
   "id": "93f28f0c-b2d4-430c-8e50-91f7d59b2382",
   "metadata": {},
   "source": [
    "#### 1. remove special characters other than whitespace"
   ]
  },
  {
   "cell_type": "code",
   "execution_count": 5,
   "id": "fc267256-4ed8-4c57-b0b2-96853a1bdb4a",
   "metadata": {},
   "outputs": [
    {
     "name": "stdout",
     "output_type": "stream",
     "text": [
      "['He is a good boy ', 'She is a good girl ', 'boy   girl is good']\n"
     ]
    }
   ],
   "source": [
    "import re \n",
    "corpus = []\n",
    "for i in range(len(sentences)):\n",
    "    l = re.sub('[^a-zA-Z]',' ',sentences[i])\n",
    "    corpus.append(l)\n",
    "\n",
    "print(corpus)"
   ]
  },
  {
   "cell_type": "markdown",
   "id": "6d1ea815-362d-4e43-89b5-8064e2f754df",
   "metadata": {},
   "source": [
    "#### 2.  Remove stop words - which have no meaning "
   ]
  },
  {
   "cell_type": "code",
   "execution_count": 11,
   "id": "643a5f8d-b114-4bff-9f28-edf11068249a",
   "metadata": {},
   "outputs": [],
   "source": [
    "from nltk.corpus import stopwords"
   ]
  },
  {
   "cell_type": "code",
   "execution_count": 14,
   "id": "d24506a0-9c34-4de1-a407-cbb01851d59f",
   "metadata": {},
   "outputs": [
    {
     "name": "stdout",
     "output_type": "stream",
     "text": [
      "boy girl good\n"
     ]
    }
   ],
   "source": [
    "# lets remove the stopwords for 1st sentence \n",
    "l = re.sub('[^a-zA-Z]',' ',sentences[i])\n",
    "l = l.lower()     # convert every word into lowercase because stopwords is not start with uppercase\n",
    "l = l.split()     # we split every sentense because stopwords is not sentence these are words \n",
    "l = [i for i in l if i not in stopwords.words('english')]\n",
    "l = ' '.join(l)\n",
    "print(l)"
   ]
  },
  {
   "cell_type": "markdown",
   "id": "b22e3893-e94c-4e65-90eb-00adee283204",
   "metadata": {},
   "source": [
    "#### 3. Steaming / Limitization : cut to base words"
   ]
  },
  {
   "cell_type": "markdown",
   "id": "e935e688-d3f8-46c1-ac50-21885f5fc2de",
   "metadata": {},
   "source": [
    "#### Steamming: May have or May have not meaning "
   ]
  },
  {
   "cell_type": "code",
   "execution_count": 23,
   "id": "aa4a7c33-2284-4d01-904e-9a7bf476a964",
   "metadata": {},
   "outputs": [
    {
     "data": {
      "text/plain": [
       "'histor'"
      ]
     },
     "execution_count": 23,
     "metadata": {},
     "output_type": "execute_result"
    }
   ],
   "source": [
    "from nltk.stem import PorterStemmer\n",
    "ps = PorterStemmer()\n",
    "ps.stem('historical')"
   ]
  },
  {
   "cell_type": "markdown",
   "id": "5bd3324d-9d32-4ced-8474-65bd17e8c670",
   "metadata": {},
   "source": [
    "#### Lemmatization: 100% have the meaning "
   ]
  },
  {
   "cell_type": "code",
   "execution_count": 27,
   "id": "1a34dcef-9a2d-4a12-aed2-4c579aa3eeb2",
   "metadata": {},
   "outputs": [
    {
     "data": {
      "text/plain": [
       "'historically'"
      ]
     },
     "execution_count": 27,
     "metadata": {},
     "output_type": "execute_result"
    }
   ],
   "source": [
    "from nltk.stem import WordNetLemmatizer\n",
    "wnl = WordNetLemmatizer()\n",
    "wnl.lemmatize('historically')"
   ]
  },
  {
   "cell_type": "markdown",
   "id": "ac693fd9-a76b-4204-9ddf-1ede35c916d1",
   "metadata": {},
   "source": [
    "#### let's apply text cleaning for all the sentences"
   ]
  },
  {
   "cell_type": "code",
   "execution_count": 28,
   "id": "4a080f86-0ce9-4b2b-8bab-9b4841e80462",
   "metadata": {},
   "outputs": [
    {
     "data": {
      "text/plain": [
       "['good boy', 'good girl', 'boy girl good']"
      ]
     },
     "execution_count": 28,
     "metadata": {},
     "output_type": "execute_result"
    }
   ],
   "source": [
    "corpus = []\n",
    "for i in range(3):\n",
    "    l = re.sub('[^a-zA-Z]',' ',sentences[i])\n",
    "    l = l.lower()\n",
    "    l = l.split()\n",
    "    l = [ps.stem(i) for i in l if i not in stopwords.words('english')]\n",
    "    l = ' '.join(l)\n",
    "    corpus.append(l)\n",
    "corpus"
   ]
  },
  {
   "cell_type": "markdown",
   "id": "a0597c63-8d3e-4043-8c26-2d970d4edc91",
   "metadata": {},
   "source": [
    "## Vectorization"
   ]
  },
  {
   "cell_type": "markdown",
   "id": "116a1f92-648c-4cae-a9b5-02f980d4339b",
   "metadata": {},
   "source": [
    "#### count vectorization(Bag of Words)"
   ]
  },
  {
   "cell_type": "markdown",
   "id": "f3b4bb8d-a994-4ace-a38d-5a2cd0a9f2dc",
   "metadata": {},
   "source": [
    "#### TF-IDF Vectorizer"
   ]
  }
 ],
 "metadata": {
  "kernelspec": {
   "display_name": "Python 3 (ipykernel)",
   "language": "python",
   "name": "python3"
  },
  "language_info": {
   "codemirror_mode": {
    "name": "ipython",
    "version": 3
   },
   "file_extension": ".py",
   "mimetype": "text/x-python",
   "name": "python",
   "nbconvert_exporter": "python",
   "pygments_lexer": "ipython3",
   "version": "3.12.3"
  }
 },
 "nbformat": 4,
 "nbformat_minor": 5
}
